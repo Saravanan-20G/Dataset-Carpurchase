{
 "cells": [
  {
   "cell_type": "markdown",
   "metadata": {},
   "source": [
    "# Liabrary"
   ]
  },
  {
   "cell_type": "code",
   "execution_count": 1,
   "metadata": {},
   "outputs": [],
   "source": [
    "import pandas as pd\n",
    "import numpy as np\n",
    "\n",
    "from scipy import stats"
   ]
  },
  {
   "cell_type": "markdown",
   "metadata": {},
   "source": [
    "# Dataframe"
   ]
  },
  {
   "cell_type": "code",
   "execution_count": 2,
   "metadata": {},
   "outputs": [],
   "source": [
    "df=pd.read_csv(\"C:\\\\Users\\\\Saravanan\\\\OneDrive\\\\Desktop\\\\Datasets_data\\\\Cars - Purchase Decision.csv\")"
   ]
  },
  {
   "cell_type": "code",
   "execution_count": 3,
   "metadata": {},
   "outputs": [
    {
     "data": {
      "text/html": [
       "<div>\n",
       "<style scoped>\n",
       "    .dataframe tbody tr th:only-of-type {\n",
       "        vertical-align: middle;\n",
       "    }\n",
       "\n",
       "    .dataframe tbody tr th {\n",
       "        vertical-align: top;\n",
       "    }\n",
       "\n",
       "    .dataframe thead th {\n",
       "        text-align: right;\n",
       "    }\n",
       "</style>\n",
       "<table border=\"1\" class=\"dataframe\">\n",
       "  <thead>\n",
       "    <tr style=\"text-align: right;\">\n",
       "      <th></th>\n",
       "      <th>User ID</th>\n",
       "      <th>Gender</th>\n",
       "      <th>Age</th>\n",
       "      <th>AnnualSalary</th>\n",
       "      <th>Purchased</th>\n",
       "    </tr>\n",
       "  </thead>\n",
       "  <tbody>\n",
       "    <tr>\n",
       "      <th>0</th>\n",
       "      <td>385</td>\n",
       "      <td>Male</td>\n",
       "      <td>35</td>\n",
       "      <td>20000</td>\n",
       "      <td>0</td>\n",
       "    </tr>\n",
       "    <tr>\n",
       "      <th>1</th>\n",
       "      <td>681</td>\n",
       "      <td>Male</td>\n",
       "      <td>40</td>\n",
       "      <td>43500</td>\n",
       "      <td>0</td>\n",
       "    </tr>\n",
       "    <tr>\n",
       "      <th>2</th>\n",
       "      <td>353</td>\n",
       "      <td>Male</td>\n",
       "      <td>49</td>\n",
       "      <td>74000</td>\n",
       "      <td>0</td>\n",
       "    </tr>\n",
       "    <tr>\n",
       "      <th>3</th>\n",
       "      <td>895</td>\n",
       "      <td>Male</td>\n",
       "      <td>40</td>\n",
       "      <td>107500</td>\n",
       "      <td>1</td>\n",
       "    </tr>\n",
       "    <tr>\n",
       "      <th>4</th>\n",
       "      <td>661</td>\n",
       "      <td>Male</td>\n",
       "      <td>25</td>\n",
       "      <td>79000</td>\n",
       "      <td>0</td>\n",
       "    </tr>\n",
       "    <tr>\n",
       "      <th>...</th>\n",
       "      <td>...</td>\n",
       "      <td>...</td>\n",
       "      <td>...</td>\n",
       "      <td>...</td>\n",
       "      <td>...</td>\n",
       "    </tr>\n",
       "    <tr>\n",
       "      <th>995</th>\n",
       "      <td>863</td>\n",
       "      <td>Male</td>\n",
       "      <td>38</td>\n",
       "      <td>59000</td>\n",
       "      <td>0</td>\n",
       "    </tr>\n",
       "    <tr>\n",
       "      <th>996</th>\n",
       "      <td>800</td>\n",
       "      <td>Female</td>\n",
       "      <td>47</td>\n",
       "      <td>23500</td>\n",
       "      <td>0</td>\n",
       "    </tr>\n",
       "    <tr>\n",
       "      <th>997</th>\n",
       "      <td>407</td>\n",
       "      <td>Female</td>\n",
       "      <td>28</td>\n",
       "      <td>138500</td>\n",
       "      <td>1</td>\n",
       "    </tr>\n",
       "    <tr>\n",
       "      <th>998</th>\n",
       "      <td>299</td>\n",
       "      <td>Female</td>\n",
       "      <td>48</td>\n",
       "      <td>134000</td>\n",
       "      <td>1</td>\n",
       "    </tr>\n",
       "    <tr>\n",
       "      <th>999</th>\n",
       "      <td>687</td>\n",
       "      <td>Female</td>\n",
       "      <td>44</td>\n",
       "      <td>73500</td>\n",
       "      <td>0</td>\n",
       "    </tr>\n",
       "  </tbody>\n",
       "</table>\n",
       "<p>1000 rows × 5 columns</p>\n",
       "</div>"
      ],
      "text/plain": [
       "     User ID  Gender  Age  AnnualSalary  Purchased\n",
       "0        385    Male   35         20000          0\n",
       "1        681    Male   40         43500          0\n",
       "2        353    Male   49         74000          0\n",
       "3        895    Male   40        107500          1\n",
       "4        661    Male   25         79000          0\n",
       "..       ...     ...  ...           ...        ...\n",
       "995      863    Male   38         59000          0\n",
       "996      800  Female   47         23500          0\n",
       "997      407  Female   28        138500          1\n",
       "998      299  Female   48        134000          1\n",
       "999      687  Female   44         73500          0\n",
       "\n",
       "[1000 rows x 5 columns]"
      ]
     },
     "execution_count": 3,
     "metadata": {},
     "output_type": "execute_result"
    }
   ],
   "source": [
    "df"
   ]
  },
  {
   "cell_type": "markdown",
   "metadata": {},
   "source": [
    "# Observation\n",
    "\n",
    "Depedent     -  purchased\n",
    "Indepent     -  AnnualSalary, Gender,\tAge\n",
    "\n",
    "catagory     - Gender,Purchased\n",
    "continous    - age,annual salary\n",
    "\n",
    "# supervised classification"
   ]
  },
  {
   "cell_type": "markdown",
   "metadata": {},
   "source": [
    "# Data cleaning"
   ]
  },
  {
   "cell_type": "code",
   "execution_count": 4,
   "metadata": {},
   "outputs": [
    {
     "name": "stdout",
     "output_type": "stream",
     "text": [
      "<class 'pandas.core.frame.DataFrame'>\n",
      "RangeIndex: 1000 entries, 0 to 999\n",
      "Data columns (total 5 columns):\n",
      " #   Column        Non-Null Count  Dtype \n",
      "---  ------        --------------  ----- \n",
      " 0   User ID       1000 non-null   int64 \n",
      " 1   Gender        1000 non-null   object\n",
      " 2   Age           1000 non-null   int64 \n",
      " 3   AnnualSalary  1000 non-null   int64 \n",
      " 4   Purchased     1000 non-null   int64 \n",
      "dtypes: int64(4), object(1)\n",
      "memory usage: 39.2+ KB\n"
     ]
    }
   ],
   "source": [
    "df.info()"
   ]
  },
  {
   "cell_type": "code",
   "execution_count": 5,
   "metadata": {},
   "outputs": [
    {
     "data": {
      "text/plain": [
       "User ID         0\n",
       "Gender          0\n",
       "Age             0\n",
       "AnnualSalary    0\n",
       "Purchased       0\n",
       "dtype: int64"
      ]
     },
     "execution_count": 5,
     "metadata": {},
     "output_type": "execute_result"
    }
   ],
   "source": [
    "df.isnull().sum()"
   ]
  },
  {
   "cell_type": "code",
   "execution_count": 6,
   "metadata": {},
   "outputs": [],
   "source": [
    "df.set_index(\"User ID\",inplace=True)"
   ]
  },
  {
   "cell_type": "code",
   "execution_count": 7,
   "metadata": {},
   "outputs": [
    {
     "data": {
      "text/html": [
       "<div>\n",
       "<style scoped>\n",
       "    .dataframe tbody tr th:only-of-type {\n",
       "        vertical-align: middle;\n",
       "    }\n",
       "\n",
       "    .dataframe tbody tr th {\n",
       "        vertical-align: top;\n",
       "    }\n",
       "\n",
       "    .dataframe thead th {\n",
       "        text-align: right;\n",
       "    }\n",
       "</style>\n",
       "<table border=\"1\" class=\"dataframe\">\n",
       "  <thead>\n",
       "    <tr style=\"text-align: right;\">\n",
       "      <th></th>\n",
       "      <th>Gender</th>\n",
       "      <th>Age</th>\n",
       "      <th>AnnualSalary</th>\n",
       "      <th>Purchased</th>\n",
       "    </tr>\n",
       "    <tr>\n",
       "      <th>User ID</th>\n",
       "      <th></th>\n",
       "      <th></th>\n",
       "      <th></th>\n",
       "      <th></th>\n",
       "    </tr>\n",
       "  </thead>\n",
       "  <tbody>\n",
       "    <tr>\n",
       "      <th>385</th>\n",
       "      <td>Male</td>\n",
       "      <td>35</td>\n",
       "      <td>20000</td>\n",
       "      <td>0</td>\n",
       "    </tr>\n",
       "    <tr>\n",
       "      <th>681</th>\n",
       "      <td>Male</td>\n",
       "      <td>40</td>\n",
       "      <td>43500</td>\n",
       "      <td>0</td>\n",
       "    </tr>\n",
       "    <tr>\n",
       "      <th>353</th>\n",
       "      <td>Male</td>\n",
       "      <td>49</td>\n",
       "      <td>74000</td>\n",
       "      <td>0</td>\n",
       "    </tr>\n",
       "    <tr>\n",
       "      <th>895</th>\n",
       "      <td>Male</td>\n",
       "      <td>40</td>\n",
       "      <td>107500</td>\n",
       "      <td>1</td>\n",
       "    </tr>\n",
       "    <tr>\n",
       "      <th>661</th>\n",
       "      <td>Male</td>\n",
       "      <td>25</td>\n",
       "      <td>79000</td>\n",
       "      <td>0</td>\n",
       "    </tr>\n",
       "  </tbody>\n",
       "</table>\n",
       "</div>"
      ],
      "text/plain": [
       "        Gender  Age  AnnualSalary  Purchased\n",
       "User ID                                     \n",
       "385       Male   35         20000          0\n",
       "681       Male   40         43500          0\n",
       "353       Male   49         74000          0\n",
       "895       Male   40        107500          1\n",
       "661       Male   25         79000          0"
      ]
     },
     "execution_count": 7,
     "metadata": {},
     "output_type": "execute_result"
    }
   ],
   "source": [
    "df.head()"
   ]
  },
  {
   "cell_type": "markdown",
   "metadata": {},
   "source": [
    "# Statistical analysis\n",
    "\n",
    "Continuous - Central Limit Theorem, 1-Tailed Test (one-sample t-test)\n",
    "\n",
    "Continuous vs. Continuous - Correlation, 2-Tailed Test (two-sample t-test)\n",
    "\n",
    "Continuous vs. Categorical - ANOVA (Analysis of Variance)\n",
    "\n",
    "Categorical vs. Categorical - Chi-Square Test"
   ]
  },
  {
   "cell_type": "markdown",
   "metadata": {},
   "source": [
    "# Hypothesis Testing\n",
    "\n",
    "Continuous - Age, AnnualSalary\n",
    "Category - Gender, Purchased"
   ]
  },
  {
   "cell_type": "markdown",
   "metadata": {},
   "source": [
    "# Central limit theoram\n",
    "\n",
    "Age - population_mean : 40.106 sample_mean : 40.1015\n",
    "Annual - population_mean : 72689.0 sample_mean : 72425.16666666667\n",
    "\n",
    "# 1 tailed test\n",
    "age- H0 is rejected, Ha is accepted, There is a significant effect\n",
    "Annual - H0 is rejected, Ha is accepted, There is a significant effect\n",
    "\n",
    "# 2 tailed test \n",
    "H0 is rejected, There is no relationship between two columns we're comparing.\n",
    "\n",
    "# Chi sqi test\n",
    "H0 is accepted, There is no relationship between two columns we're comparing\n",
    "\n",
    "# Anova\n",
    "Gender,age - H0 is rejected , There is no relationship between two columns we're comparing\n",
    "Gender,annual- H0 is rejected , There is no relationship between two columns we're comparing\n",
    "purchased,age - H0 is rejected , There is no relationship between two columns we're comparing\n",
    "purchased,annual - H0 is rejected , There is no relationship between two columns we're comparing"
   ]
  },
  {
   "cell_type": "markdown",
   "metadata": {},
   "source": [
    "# Correlation"
   ]
  },
  {
   "cell_type": "code",
   "execution_count": 12,
   "metadata": {},
   "outputs": [
    {
     "data": {
      "text/html": [
       "<div>\n",
       "<style scoped>\n",
       "    .dataframe tbody tr th:only-of-type {\n",
       "        vertical-align: middle;\n",
       "    }\n",
       "\n",
       "    .dataframe tbody tr th {\n",
       "        vertical-align: top;\n",
       "    }\n",
       "\n",
       "    .dataframe thead th {\n",
       "        text-align: right;\n",
       "    }\n",
       "</style>\n",
       "<table border=\"1\" class=\"dataframe\">\n",
       "  <thead>\n",
       "    <tr style=\"text-align: right;\">\n",
       "      <th></th>\n",
       "      <th>Age</th>\n",
       "      <th>AnnualSalary</th>\n",
       "      <th>Purchased</th>\n",
       "    </tr>\n",
       "  </thead>\n",
       "  <tbody>\n",
       "    <tr>\n",
       "      <th>Age</th>\n",
       "      <td>1.000000</td>\n",
       "      <td>0.166042</td>\n",
       "      <td>0.616036</td>\n",
       "    </tr>\n",
       "    <tr>\n",
       "      <th>AnnualSalary</th>\n",
       "      <td>0.166042</td>\n",
       "      <td>1.000000</td>\n",
       "      <td>0.364974</td>\n",
       "    </tr>\n",
       "    <tr>\n",
       "      <th>Purchased</th>\n",
       "      <td>0.616036</td>\n",
       "      <td>0.364974</td>\n",
       "      <td>1.000000</td>\n",
       "    </tr>\n",
       "  </tbody>\n",
       "</table>\n",
       "</div>"
      ],
      "text/plain": [
       "                   Age  AnnualSalary  Purchased\n",
       "Age           1.000000      0.166042   0.616036\n",
       "AnnualSalary  0.166042      1.000000   0.364974\n",
       "Purchased     0.616036      0.364974   1.000000"
      ]
     },
     "execution_count": 12,
     "metadata": {},
     "output_type": "execute_result"
    }
   ],
   "source": [
    "df.corr(numeric_only=True)\n"
   ]
  },
  {
   "cell_type": "markdown",
   "metadata": {},
   "source": [
    "# Cental Limit Theoram"
   ]
  },
  {
   "cell_type": "code",
   "execution_count": 15,
   "metadata": {},
   "outputs": [
    {
     "name": "stdout",
     "output_type": "stream",
     "text": [
      "population_mean : 40.106 sample_mean : 40.1015\n"
     ]
    }
   ],
   "source": [
    "population=df.Age.values\n",
    "population_mean=population.mean()\n",
    "samplesize=150\n",
    "sample_mean=[]\n",
    "for i in range(40):\n",
    "    sample=np.random.choice(population,samplesize)\n",
    "    sample_mean.append(sample.mean())\n",
    "np.mean(sample_mean)\n",
    "print(\"population_mean :\",population_mean,\"sample_mean :\",np.mean(sample_mean))"
   ]
  },
  {
   "cell_type": "code",
   "execution_count": 17,
   "metadata": {},
   "outputs": [
    {
     "name": "stdout",
     "output_type": "stream",
     "text": [
      "population_mean : 72689.0 sample_mean : 72425.16666666667\n"
     ]
    }
   ],
   "source": [
    "population=df.AnnualSalary.values\n",
    "population_mean=population.mean()\n",
    "samplesize=150\n",
    "sample_mean=[]\n",
    "for i in range(40):\n",
    "    sample=np.random.choice(population,samplesize)\n",
    "    sample_mean.append(sample.mean())\n",
    "np.mean(sample_mean)\n",
    "print(\"population_mean :\",population_mean,\"sample_mean :\",np.mean(sample_mean))"
   ]
  },
  {
   "cell_type": "markdown",
   "metadata": {},
   "source": [
    "# 1 Tailed Test"
   ]
  },
  {
   "cell_type": "code",
   "execution_count": 20,
   "metadata": {},
   "outputs": [
    {
     "name": "stdout",
     "output_type": "stream",
     "text": [
      "H0 accepted 11 times , H0 rejected 19 times\n",
      "H0 is rejected, Ha is accepted, There is a significant effect\n"
     ]
    }
   ],
   "source": [
    "H0_accepted = 0\n",
    "H0_rejected = 0\n",
    "for i in range(30):\n",
    "  sample = df.Age.sample(frac=0.05)\n",
    "  t_test, p_value = stats.ttest_1samp(sample,df.Age.mean())\n",
    "  if p_value > 0.5:\n",
    "    H0_accepted += 1\n",
    "  else:\n",
    "    H0_rejected += 1\n",
    "\n",
    "print(f\"H0 accepted {H0_accepted} times , H0 rejected {H0_rejected} times\")\n",
    "if H0_accepted > H0_rejected:\n",
    "  print(\"H0 is accepted, Ha is rejected, There is no significant effect\")\n",
    "else:\n",
    "  print(\"H0 is rejected, Ha is accepted, There is a significant effect\")"
   ]
  },
  {
   "cell_type": "code",
   "execution_count": 21,
   "metadata": {},
   "outputs": [
    {
     "name": "stdout",
     "output_type": "stream",
     "text": [
      "H0 accepted 14 times , H0 rejected 16 times\n",
      "H0 is rejected, Ha is accepted, There is a significant effect\n"
     ]
    }
   ],
   "source": [
    "\n",
    "H0_accepted = 0\n",
    "H0_rejected = 0\n",
    "for i in range(30):\n",
    "  sample = df.AnnualSalary.sample(frac=0.05)\n",
    "  t_test, p_value = stats.ttest_1samp(sample,df.AnnualSalary.mean())\n",
    "  if p_value > 0.5:\n",
    "    H0_accepted += 1\n",
    "  else:\n",
    "    H0_rejected += 1\n",
    "\n",
    "print(f\"H0 accepted {H0_accepted} times , H0 rejected {H0_rejected} times\")\n",
    "if H0_accepted > H0_rejected:\n",
    "  print(\"H0 is accepted, Ha is rejected, There is no significant effect\")\n",
    "else:\n",
    "  print(\"H0 is rejected, Ha is accepted, There is a significant effect\")"
   ]
  },
  {
   "cell_type": "markdown",
   "metadata": {},
   "source": [
    "# 2 Tailed Test"
   ]
  },
  {
   "cell_type": "code",
   "execution_count": 23,
   "metadata": {},
   "outputs": [
    {
     "name": "stdout",
     "output_type": "stream",
     "text": [
      "H0 accepted 0 times , H0 rejected 20 times\n",
      "H0 is rejected, There is no relationship between two columns we're comparing.\n"
     ]
    }
   ],
   "source": [
    "H0_accepted = 0\n",
    "H0_rejected = 0\n",
    "for i in range(20):\n",
    "  sample1 = df.Age.sample(frac=0.04)\n",
    "  sample2 = df.AnnualSalary.sample(frac=0.04)\n",
    "  t_test, p_value = stats.ttest_ind(sample1, sample2)\n",
    "  if p_value > 0.5:\n",
    "    H0_accepted += 1\n",
    "  else:\n",
    "    H0_rejected += 1\n",
    "\n",
    "print(f\"H0 accepted {H0_accepted} times , H0 rejected {H0_rejected} times\")\n",
    "if H0_accepted > H0_rejected:\n",
    "  print(\"H0 is accepted, There is a relationship between two columns we're comparing\")\n",
    "else:\n",
    "  print(\"H0 is rejected, There is no relationship between two columns we're comparing.\")\n"
   ]
  },
  {
   "cell_type": "markdown",
   "metadata": {},
   "source": [
    "# Chi Square Test"
   ]
  },
  {
   "cell_type": "code",
   "execution_count": 24,
   "metadata": {},
   "outputs": [
    {
     "name": "stdout",
     "output_type": "stream",
     "text": [
      "H0 is accepted, There is no relationship between two columns we're comparing\n"
     ]
    }
   ],
   "source": [
    "\n",
    "data = pd.crosstab(df.Gender, df.Purchased)\n",
    "observed_values = data.values\n",
    "chi2_stat, p_value, _, _ = stats.chi2_contingency(observed_values)\n",
    "if p_value > 0.05:\n",
    "  print(\"H0 is accepted, There is no relationship between two columns we're comparing\")\n",
    "else:\n",
    "  print(\"H0 is rejected, There is a relationship between two columns we're comparing\")"
   ]
  },
  {
   "cell_type": "markdown",
   "metadata": {},
   "source": [
    "# Anova"
   ]
  },
  {
   "cell_type": "code",
   "execution_count": 25,
   "metadata": {},
   "outputs": [
    {
     "name": "stdout",
     "output_type": "stream",
     "text": [
      "H0 is rejected , There is no relationship between two columns we're comparing\n"
     ]
    }
   ],
   "source": [
    "group=df.Gender.unique()\n",
    "data={}\n",
    "for i in group:\n",
    "    data[i]=df.Age[df.Gender==i]\n",
    "f_value,p_value=stats.f_oneway(*[data[i] for i in group])\n",
    "if p_value > 0.5:\n",
    "    print(\"H0 is accepting, There is a relationship between two columns we're comparing\")\n",
    "else:\n",
    "    print(\"H0 is rejected , There is no relationship between two columns we're comparing\")"
   ]
  },
  {
   "cell_type": "code",
   "execution_count": 26,
   "metadata": {},
   "outputs": [
    {
     "name": "stdout",
     "output_type": "stream",
     "text": [
      "H0 is rejected , There is no relationship between two columns we're comparing\n"
     ]
    }
   ],
   "source": [
    "group=df.Gender.unique()\n",
    "data={}\n",
    "for i in group:\n",
    "    data[i]=df.AnnualSalary[df.Gender==i]\n",
    "f_value,p_value=stats.f_oneway(*[data[i] for i in group])\n",
    "if p_value > 0.5:\n",
    "    print(\"H0 is accepting, There is a relationship between two columns we're comparing\")\n",
    "else:\n",
    "    print(\"H0 is rejected , There is no relationship between two columns we're comparing\")"
   ]
  },
  {
   "cell_type": "code",
   "execution_count": 27,
   "metadata": {},
   "outputs": [
    {
     "name": "stdout",
     "output_type": "stream",
     "text": [
      "H0 is rejected , There is no relationship between two columns we're comparing\n"
     ]
    },
    {
     "name": "stderr",
     "output_type": "stream",
     "text": [
      "c:\\Users\\Saravanan\\OneDrive\\Desktop\\Dataset\\.venv\\Lib\\site-packages\\scipy\\stats\\_stats_py.py:4102: DegenerateDataWarning: at least one input has length 0\n",
      "  if _f_oneway_is_too_small(samples):\n"
     ]
    }
   ],
   "source": [
    "group=df.Purchased.unique()\n",
    "data={}\n",
    "for i in group:\n",
    "    data[i]=df.Age[df.Gender==i]\n",
    "f_value,p_value=stats.f_oneway(*[data[i] for i in group])\n",
    "if p_value > 0.5:\n",
    "    print(\"H0 is accepting, There is a relationship between two columns we're comparing\")\n",
    "else:\n",
    "    print(\"H0 is rejected , There is no relationship between two columns we're comparing\")"
   ]
  },
  {
   "cell_type": "code",
   "execution_count": 28,
   "metadata": {},
   "outputs": [
    {
     "name": "stdout",
     "output_type": "stream",
     "text": [
      "H0 is rejected , There is no relationship between two columns we're comparing\n"
     ]
    }
   ],
   "source": [
    "group=df.Purchased.unique()\n",
    "data={}\n",
    "for i in group:\n",
    "    data[i]=df.AnnualSalary[df.Gender==i]\n",
    "f_value,p_value=stats.f_oneway(*[data[i] for i in group])\n",
    "if p_value > 0.5:\n",
    "    print(\"H0 is accepting, There is a relationship between two columns we're comparing\")\n",
    "else:\n",
    "    print(\"H0 is rejected , There is no relationship between two columns we're comparing\")"
   ]
  }
 ],
 "metadata": {
  "kernelspec": {
   "display_name": ".venv",
   "language": "python",
   "name": "python3"
  },
  "language_info": {
   "codemirror_mode": {
    "name": "ipython",
    "version": 3
   },
   "file_extension": ".py",
   "mimetype": "text/x-python",
   "name": "python",
   "nbconvert_exporter": "python",
   "pygments_lexer": "ipython3",
   "version": "3.11.9"
  }
 },
 "nbformat": 4,
 "nbformat_minor": 2
}
